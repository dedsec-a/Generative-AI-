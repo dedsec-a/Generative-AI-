{
 "cells": [
  {
   "cell_type": "code",
   "execution_count": 1,
   "id": "b9f4cf2c",
   "metadata": {},
   "outputs": [
    {
     "name": "stdout",
     "output_type": "stream",
     "text": [
      "Let's Learn Gen AI\n"
     ]
    }
   ],
   "source": [
    "print(\"Let's Learn Gen AI\")"
   ]
  },
  {
   "cell_type": "code",
   "execution_count": 9,
   "id": "00781658",
   "metadata": {},
   "outputs": [
    {
     "data": {
      "text/plain": [
       "<langchain_community.document_loaders.text.TextLoader at 0x1fa93f62390>"
      ]
     },
     "execution_count": 9,
     "metadata": {},
     "output_type": "execute_result"
    }
   ],
   "source": [
    "# Text Loader\n",
    "from langchain_community.document_loaders import TextLoader\n",
    "\n",
    "loader = TextLoader('speech.txt',encoding='utf-8')\n",
    "loader\n",
    "\n"
   ]
  },
  {
   "cell_type": "code",
   "execution_count": 10,
   "id": "6011f107",
   "metadata": {},
   "outputs": [
    {
     "data": {
      "text/plain": [
       "[Document(metadata={'source': 'speech.txt'}, page_content=\"The Power of Perseverance: A Key to Success\\nLadies and gentlemen, honored guests, and dreamers in this room,\\nToday, I stand before you to speak about something that defines greatness—not wealth, not privilege, not talent alone. It is perseverance. The ability to keep moving forward despite obstacles, setbacks, and failures is the essence of all success stories.\\nHistory proves time and again that perseverance separates the ordinary from the extraordinary. Think of Thomas Edison, who failed more than 1,000 times before inventing the lightbulb. Imagine if he had given up on failure number 100, or even 999! The world would have remained in darkness a little longer. Perseverance is refusing to surrender when failure seems inevitable. It is continuing to chase a vision even when the world tells you it's impossible.\\nBut perseverance is not just a historical anecdote—it is a philosophy, a mindset, a way of life that applies to each and every one of us.\\nThe Road to Success is Paved with Failures\\nLet us acknowledge an important truth: failure is not the opposite of success—it is part of it. Every entrepreneur, athlete, artist, scientist, and visionary has faced rejection, doubt, and despair at some point. Success is not the absence of failure but the ability to rise every time you fall.\\nTake J.K. Rowling, whose manuscript for Harry Potter was rejected by 12 publishers before one finally gave her a chance. Take Michael Jordan, who was cut from his high school basketball team. Did they give up? No! They embraced failure as fuel for their next attempt.\\nWhen we face obstacles, we are tempted to stop. We feel the weight of doubt pressing on our shoulders. But in those moments, we must remember: the finish line is only visible to those who refuse to stop running.\\nResilience in Adversity\\nPerseverance is not only about achieving success—it is about resilience in life’s toughest challenges. Life will test you. There will be storms, heartbreaks, disappointments, and unforeseen difficulties. You may lose people, opportunities, or even the motivation to continue. But true strength lies in standing back up when life knocks you down.\\nLook around you. Every person here has faced challenges, struggles that might not be visible on the surface. Some have conquered financial struggles, others have overcome self-doubt, illnesses, or failures. But they are here today, not because their path was smooth but because they refused to quit.\\nThe Mindset of Perseverance\\nSo, how do we cultivate perseverance in our own lives?\\n1️⃣ Develop a Growth Mindset – Believe that challenges help you grow, rather than define your limits. Every setback is an opportunity to learn, improve, and adapt.\\n2️⃣ Set Goals, But Focus on the Process – Success is a result of consistent effort, not just grand ambitions. Small, daily progress builds resilience.\\n3️⃣ Embrace Failure as a Lesson – Instead of fearing failure, study it. What went wrong? How can you adjust? Failure is a stepping stone, not a stopping point.\\n4️⃣ Stay Motivated, Even When Results Don’t Show Immediately – Some things take weeks, months, even years. Greatness is built day by day, not overnight.\\n5️⃣ Surround Yourself with Persevering People – Energy is contagious. Find mentors, friends, and communities that inspire determination.\\nConclusion: Keep Moving Forward\\nPerseverance is the secret ingredient behind every success story. It is what makes ordinary people achieve extraordinary things. It is the force that drives someone to wake up every morning and try again, despite yesterday’s failures.\\nAs you leave this room today, I ask you one question: What dreams have you abandoned? What goals do you think are impossible?\\nTake them back. Pursue them again. Start anew, because the only true failure is giving up.\\nThe future belongs to those who persist. So keep moving forward.\\nThank you.\\n\")]"
      ]
     },
     "execution_count": 10,
     "metadata": {},
     "output_type": "execute_result"
    }
   ],
   "source": [
    "text_docs = loader.load()\n",
    "text_docs"
   ]
  },
  {
   "cell_type": "code",
   "execution_count": 13,
   "id": "6e56dbc6",
   "metadata": {},
   "outputs": [],
   "source": [
    "# Spliting the dOCs\n",
    "from langchain_text_splitters import RecursiveCharacterTextSplitter\n",
    "\n",
    "text_splitter = RecursiveCharacterTextSplitter(chunk_size=500, chunk_overlap=50)\n",
    "final_docs = text_splitter.split_documents(text_docs)"
   ]
  },
  {
   "cell_type": "code",
   "execution_count": 14,
   "id": "39629e49",
   "metadata": {},
   "outputs": [
    {
     "data": {
      "text/plain": [
       "Document(metadata={'source': 'speech.txt'}, page_content='The Power of Perseverance: A Key to Success\\nLadies and gentlemen, honored guests, and dreamers in this room,\\nToday, I stand before you to speak about something that defines greatness—not wealth, not privilege, not talent alone. It is perseverance. The ability to keep moving forward despite obstacles, setbacks, and failures is the essence of all success stories.')"
      ]
     },
     "execution_count": 14,
     "metadata": {},
     "output_type": "execute_result"
    }
   ],
   "source": [
    "final_docs[0]"
   ]
  },
  {
   "cell_type": "code",
   "execution_count": 15,
   "id": "dcd5d675",
   "metadata": {},
   "outputs": [
    {
     "name": "stdout",
     "output_type": "stream",
     "text": [
      "Going to work on Embeddings\n"
     ]
    }
   ],
   "source": [
    "# After Loading we Are going to Now going to Do Embeddings\n",
    "\n",
    "print('Going to work on Embeddings')"
   ]
  },
  {
   "cell_type": "code",
   "execution_count": 1,
   "id": "08f2e52e",
   "metadata": {},
   "outputs": [
    {
     "data": {
      "text/plain": [
       "True"
      ]
     },
     "execution_count": 1,
     "metadata": {},
     "output_type": "execute_result"
    }
   ],
   "source": [
    "from dotenv import load_dotenv\n",
    "load_dotenv()"
   ]
  },
  {
   "cell_type": "code",
   "execution_count": 2,
   "id": "5554db09",
   "metadata": {},
   "outputs": [],
   "source": [
    "import os \n",
    "os.environ['hugging_face_apiKey'] = os.getenv('hugging_face_apiKey')"
   ]
  },
  {
   "cell_type": "code",
   "execution_count": 3,
   "id": "971b7dd0",
   "metadata": {},
   "outputs": [
    {
     "name": "stderr",
     "output_type": "stream",
     "text": [
      "c:\\Users\\reply\\AppData\\Local\\Programs\\Python\\Python311\\Lib\\site-packages\\tqdm\\auto.py:21: TqdmWarning: IProgress not found. Please update jupyter and ipywidgets. See https://ipywidgets.readthedocs.io/en/stable/user_install.html\n",
      "  from .autonotebook import tqdm as notebook_tqdm\n"
     ]
    },
    {
     "name": "stdout",
     "output_type": "stream",
     "text": [
      "WARNING:tensorflow:From c:\\Users\\reply\\AppData\\Local\\Programs\\Python\\Python311\\Lib\\site-packages\\keras\\src\\losses.py:2976: The name tf.losses.sparse_softmax_cross_entropy is deprecated. Please use tf.compat.v1.losses.sparse_softmax_cross_entropy instead.\n",
      "\n"
     ]
    },
    {
     "name": "stderr",
     "output_type": "stream",
     "text": [
      "c:\\Users\\reply\\AppData\\Local\\Programs\\Python\\Python311\\Lib\\site-packages\\huggingface_hub\\file_download.py:139: UserWarning: `huggingface_hub` cache-system uses symlinks by default to efficiently store duplicated files but your machine does not support them in C:\\Users\\reply\\.cache\\huggingface\\hub\\models--sentence-transformers--all-miniLM-l6-v2. Caching files will still work but in a degraded version that might require more space on your disk. This warning can be disabled by setting the `HF_HUB_DISABLE_SYMLINKS_WARNING` environment variable. For more details, see https://huggingface.co/docs/huggingface_hub/how-to-cache#limitations.\n",
      "To support symlinks on Windows, you either need to activate Developer Mode or to run Python as an administrator. In order to activate developer mode, see this article: https://docs.microsoft.com/en-us/windows/apps/get-started/enable-your-device-for-development\n",
      "  warnings.warn(message)\n"
     ]
    }
   ],
   "source": [
    "from langchain_huggingface import HuggingFaceEmbeddings\n",
    "embeddings = HuggingFaceEmbeddings(model_name = 'all-miniLM-l6-v2')"
   ]
  },
  {
   "cell_type": "code",
   "execution_count": null,
   "id": "e0eaf50d",
   "metadata": {},
   "outputs": [],
   "source": [
    "text = \"\"\"Let us acknowledge an important truth: failure is not the opposite of success—it is part of it. Every entrepreneur, athlete, artist, scientist, and visionary has faced rejection, doubt, and despair at some point. Success is not the absence of failure but the ability to rise every time you fall.\n",
    "Take J.K. Rowling, whose manuscript for Harry Potter was rejected by 12 publishers before one finally gave her a chance. Take Michael Jordan, who was cut from his high school basketball team. Did they give up? No! They embraced failure as fuel for their next attempt.\n",
    "When we face obstacles, we are tempted to stop. We feel the weight of doubt pressing on our shoulders. But in those moments, we must remember: the finish line is only visible to those who refuse to stop running\"\n",
    "Resilience in Adversity\"\"\""
   ]
  },
  {
   "cell_type": "code",
   "execution_count": null,
   "id": "c1d03db1",
   "metadata": {},
   "outputs": [],
   "source": [
    "embeddings.embed_query(text=)"
   ]
  },
  {
   "cell_type": "code",
   "execution_count": null,
   "id": "cfe9501e",
   "metadata": {},
   "outputs": [],
   "source": []
  },
  {
   "cell_type": "code",
   "execution_count": null,
   "id": "7a8d9ba8",
   "metadata": {},
   "outputs": [],
   "source": []
  },
  {
   "cell_type": "code",
   "execution_count": null,
   "id": "1d26aae2",
   "metadata": {},
   "outputs": [],
   "source": []
  },
  {
   "cell_type": "code",
   "execution_count": null,
   "id": "9d383ad8",
   "metadata": {},
   "outputs": [],
   "source": []
  },
  {
   "cell_type": "code",
   "execution_count": null,
   "id": "7cb78511",
   "metadata": {},
   "outputs": [],
   "source": []
  },
  {
   "cell_type": "code",
   "execution_count": null,
   "id": "fabfefa0",
   "metadata": {},
   "outputs": [],
   "source": []
  },
  {
   "cell_type": "code",
   "execution_count": null,
   "id": "aa1ac68e",
   "metadata": {},
   "outputs": [],
   "source": []
  },
  {
   "cell_type": "code",
   "execution_count": null,
   "id": "478db7c3",
   "metadata": {},
   "outputs": [],
   "source": []
  },
  {
   "cell_type": "code",
   "execution_count": null,
   "id": "783a34de",
   "metadata": {},
   "outputs": [],
   "source": []
  },
  {
   "cell_type": "code",
   "execution_count": null,
   "id": "a7c16c71",
   "metadata": {},
   "outputs": [],
   "source": []
  },
  {
   "cell_type": "code",
   "execution_count": null,
   "id": "11c34d05",
   "metadata": {},
   "outputs": [],
   "source": []
  }
 ],
 "metadata": {
  "kernelspec": {
   "display_name": "Python 3",
   "language": "python",
   "name": "python3"
  },
  "language_info": {
   "codemirror_mode": {
    "name": "ipython",
    "version": 3
   },
   "file_extension": ".py",
   "mimetype": "text/x-python",
   "name": "python",
   "nbconvert_exporter": "python",
   "pygments_lexer": "ipython3",
   "version": "3.11.0"
  }
 },
 "nbformat": 4,
 "nbformat_minor": 5
}
